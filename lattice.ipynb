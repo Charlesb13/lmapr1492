{
 "cells": [
  {
   "cell_type": "raw",
   "id": "f65f4f59",
   "metadata": {},
   "source": [
    "Détermination des vecteurs de bases de ses réseaux direct et réciproque, son type de maille, son système cristallin, ainsi que son groupe ponctuel.\n",
    "Considerons la maille primitive, contenant en moyenne 1 noeud et un motif.\n"
   ]
  },
  {
   "cell_type": "code",
   "execution_count": 8,
   "id": "b00bd684",
   "metadata": {},
   "outputs": [
    {
     "data": {
      "application/vnd.jupyter.widget-view+json": {
       "model_id": "00e97eb744f04b538d79aab64c22dc89",
       "version_major": 2,
       "version_minor": 0
      },
      "text/plain": [
       "Retrieving MaterialsDoc documents:   0%|          | 0/1 [00:00<?, ?it/s]"
      ]
     },
     "metadata": {},
     "output_type": "display_data"
    }
   ],
   "source": [
    "from pymatgen.ext.matproj import MPRester\n",
    "with MPRester (\"n58KMF7umZMAJXouXDJc0vORWlcEfEsD\") as m:\n",
    "    structure = m.get_structure_by_material_id(\"mp-15794\")"
   ]
  },
  {
   "cell_type": "code",
   "execution_count": 9,
   "id": "98d3035b",
   "metadata": {},
   "outputs": [],
   "source": [
    "from pymatgen.symmetry.analyzer import SpacegroupAnalyzer\n",
    "\n",
    "struct = SpacegroupAnalyzer(structure)\n",
    "new_s=SpacegroupAnalyzer(structure).get_primitive_standard_structure()\n"
   ]
  },
  {
   "cell_type": "markdown",
   "id": "0267b02c",
   "metadata": {},
   "source": [
    "# Réseau direct"
   ]
  },
  {
   "cell_type": "code",
   "execution_count": 10,
   "id": "b9ece248",
   "metadata": {},
   "outputs": [
    {
     "data": {
      "text/plain": [
       "Lattice\n",
       "    abc : 6.8662681686084674 6.8662681686084674 6.86626883025313\n",
       " angles : 34.386846216546964 34.386846216546964 34.38683926414644\n",
       " volume : 92.09990726618335\n",
       "      A : 6.55942738 -2.02965744 -0.00645647\n",
       "      B : 6.55942738 2.02965744 -0.00645647\n",
       "      C : 5.9348038899999995 0.0 3.4530784\n",
       "    pbc : True True True"
      ]
     },
     "execution_count": 10,
     "metadata": {},
     "output_type": "execute_result"
    }
   ],
   "source": [
    "structure.lattice"
   ]
  },
  {
   "cell_type": "raw",
   "id": "580122a2",
   "metadata": {},
   "source": [
    "'abc' représente respectivement la longueur (en Angström) de a,b et c qui sont identiques\n",
    "'angles représente les angles (alpha, bêta, gamma) entre les différentes longueurs et ils sont aussi identiques\n",
    "Les points A, B et C représentent les coordonnées dans la base cartésienne des vecteurs de base"
   ]
  },
  {
   "cell_type": "markdown",
   "id": "041205ff",
   "metadata": {},
   "source": [
    "# Réseau recirpoque "
   ]
  },
  {
   "cell_type": "code",
   "execution_count": 11,
   "id": "b24eb548",
   "metadata": {},
   "outputs": [
    {
     "data": {
      "text/plain": [
       "Lattice\n",
       "    abc : 1.81651786638334 1.81651786638334 1.816517369266292\n",
       " angles : 116.88027719509681 116.88027719509681 116.88029723613062\n",
       " volume : 2.6932732160684374\n",
       "      A : 0.47813425540464544 -1.5478437847077255 -0.8217690739132198\n",
       "      B : 0.47813425540464555 1.5478437847077255 -0.82176907391322\n",
       "      C : 0.0017880042781492776 0.0 1.8165164892967065\n",
       "    pbc : True True True"
      ]
     },
     "execution_count": 11,
     "metadata": {},
     "output_type": "execute_result"
    }
   ],
   "source": [
    "structure.lattice.reciprocal_lattice"
   ]
  },
  {
   "cell_type": "raw",
   "id": "3ad047c8",
   "metadata": {},
   "source": [
    "Le réseau réciproque correspond à l'ensemble des vecteurs d'onde tels que leur périodicité est identique à celle du réseau initial. \n",
    "'abc' représente respectivement la longueur (en Angström) de a',b' et ce qui sont identiques\n",
    "'angles représente les angles (alpha', beta', gamma') entre les différentes longueurs et ils sont aussi identiques\n",
    "Les points A, B et C représentent les coordonnées dans la base cartésienne des vecteurs de base"
   ]
  },
  {
   "cell_type": "markdown",
   "id": "d800ee50",
   "metadata": {},
   "source": [
    "# type de maille "
   ]
  },
  {
   "cell_type": "code",
   "execution_count": 12,
   "id": "8eacd4a7",
   "metadata": {},
   "outputs": [
    {
     "data": {
      "text/plain": [
       "'rhombohedral'"
      ]
     },
     "execution_count": 12,
     "metadata": {},
     "output_type": "execute_result"
    }
   ],
   "source": [
    "struct.get_lattice_type()"
   ]
  },
  {
   "cell_type": "raw",
   "id": "2c0347cb",
   "metadata": {},
   "source": [
    "Comme nous avons vu que a = b = c et que alpha = bêta = gamma, nous avons une maille rhomboédrique"
   ]
  },
  {
   "cell_type": "markdown",
   "id": "bc3aa6e0",
   "metadata": {},
   "source": [
    "# Système cristallin"
   ]
  },
  {
   "cell_type": "code",
   "execution_count": 13,
   "id": "5b9b5038",
   "metadata": {},
   "outputs": [
    {
     "data": {
      "text/plain": [
       "'trigonal'"
      ]
     },
     "execution_count": 13,
     "metadata": {},
     "output_type": "execute_result"
    }
   ],
   "source": [
    "struct.get_crystal_system()"
   ]
  },
  {
   "cell_type": "raw",
   "id": "9041f10c",
   "metadata": {},
   "source": [
    "Comme nous avons vu que a = b = c et que alpha = bêta = gamma, nous avons un système cristallin trigonal"
   ]
  },
  {
   "cell_type": "markdown",
   "id": "7bac0f39",
   "metadata": {},
   "source": [
    "# Groupe ponctuel"
   ]
  },
  {
   "cell_type": "code",
   "execution_count": 14,
   "id": "db43c44c",
   "metadata": {},
   "outputs": [
    {
     "data": {
      "text/plain": [
       "'-3m'"
      ]
     },
     "execution_count": 14,
     "metadata": {},
     "output_type": "execute_result"
    }
   ],
   "source": [
    "struct.get_point_group_symbol()"
   ]
  },
  {
   "cell_type": "raw",
   "id": "80f69fc1",
   "metadata": {},
   "source": [
    "La notation du groupe ponctuel est donc : -3m"
   ]
  }
 ],
 "metadata": {
  "kernelspec": {
   "display_name": "Python 3 (ipykernel)",
   "language": "python",
   "name": "python3"
  },
  "language_info": {
   "codemirror_mode": {
    "name": "ipython",
    "version": 3
   },
   "file_extension": ".py",
   "mimetype": "text/x-python",
   "name": "python",
   "nbconvert_exporter": "python",
   "pygments_lexer": "ipython3",
   "version": "3.9.13"
  }
 },
 "nbformat": 4,
 "nbformat_minor": 5
}
