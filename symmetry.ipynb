{
 "cells": [
  {
   "cell_type": "markdown",
   "id": "341cb3bf",
   "metadata": {},
   "source": [
    "Analyse de l'effet de 3 symétries différentes sur les atomes de notre cristal."
   ]
  },
  {
   "cell_type": "markdown",
   "id": "dcb4a459",
   "metadata": {},
   "source": [
    "# Modules et packages"
   ]
  },
  {
   "cell_type": "code",
   "execution_count": 6,
   "id": "4efbd031",
   "metadata": {},
   "outputs": [],
   "source": [
    "import numpy as np\n",
    "from pymatgen.ext.matproj import MPRester\n",
    "from pymatgen.symmetry.analyzer import SpacegroupAnalyzer\n",
    "from pymatgen.core.operations import SymmOp\n",
    "from jupyter_jsmol.pymatgen import quick_view\n",
    "import matplotlib.pyplot as plt\n",
    "from mpl_toolkits.mplot3d import Axes3D"
   ]
  },
  {
   "cell_type": "code",
   "execution_count": 7,
   "id": "5d57ad32",
   "metadata": {},
   "outputs": [
    {
     "data": {
      "application/vnd.jupyter.widget-view+json": {
       "model_id": "5373c3cf36bd427e81a48916f41fc714",
       "version_major": 2,
       "version_minor": 0
      },
      "text/plain": [
       "Retrieving MaterialsDoc documents:   0%|          | 0/1 [00:00<?, ?it/s]"
      ]
     },
     "metadata": {},
     "output_type": "display_data"
    }
   ],
   "source": [
    "\n",
    "with MPRester (\"n58KMF7umZMAJXouXDJc0vORWlcEfEsD\") as m:\n",
    "    structure = m.get_structure_by_material_id(\"mp-15794\")"
   ]
  },
  {
   "cell_type": "code",
   "execution_count": 8,
   "id": "f5675fde",
   "metadata": {},
   "outputs": [],
   "source": [
    "\n",
    "\n",
    "struct = SpacegroupAnalyzer(structure,symprec=0.1)\n",
    "conv_struc = struct.get_conventional_standard_structure()\n",
    "symmops = struct.get_space_group_operations()\n"
   ]
  },
  {
   "cell_type": "code",
   "execution_count": 9,
   "id": "d1279a3e",
   "metadata": {},
   "outputs": [],
   "source": [
    "# Sélection de trois opérations de symétrie différentes (hors identité)\n",
    "symm_ops_selected = symmops[1:4]  # On prend trois premières après l'identité\n",
    "\n",
    "# Appliquer chaque opération sur un atome différent\n",
    "atoms = conv_struc.sites[:3]  # Prendre trois atomes différents\n",
    "transformed_atoms = [op.operate(atom.coords) for op, atom in zip(symm_ops_selected, atoms)]"
   ]
  },
  {
   "cell_type": "code",
   "execution_count": 10,
   "id": "9dbd397b",
   "metadata": {},
   "outputs": [
    {
     "name": "stdout",
     "output_type": "stream",
     "text": [
      "Groupe d'espace: R-3m\n",
      "Opération 1: Rot:\n",
      "[[1. 0. 0.]\n",
      " [0. 1. 0.]\n",
      " [0. 0. 1.]]\n",
      "tau\n",
      "[0. 0. 0.]\n",
      "Atome original: [2.02965769 1.17182341 3.22695525] Li\n",
      "Atome transformé: [2.02965769 1.17182341 3.22695525]\n",
      "\n"
     ]
    },
    {
     "data": {
      "application/vnd.jupyter.widget-view+json": {
       "model_id": "c955b501aba14e18a6667333b4931476",
       "version_major": 2,
       "version_minor": 0
      },
      "text/plain": [
       "JsmolView(layout=Layout(align_self='stretch', height='400px'))"
      ]
     },
     "metadata": {},
     "output_type": "display_data"
    },
    {
     "name": "stdout",
     "output_type": "stream",
     "text": [
      "Visualisation de la structure après l'opération 1\n",
      "Opération 2: Rot:\n",
      "[[-1.  0.  0.]\n",
      " [ 0. -1.  0.]\n",
      " [ 0.  0. -1.]]\n",
      "tau\n",
      "[0. 0. 0.]\n",
      "Atome original: [ 4.05931538e+00 -4.44089210e-16  9.68086575e+00] Li\n",
      "Atome transformé: [-4.05931538e+00  4.44089210e-16 -9.68086575e+00]\n",
      "\n"
     ]
    },
    {
     "data": {
      "application/vnd.jupyter.widget-view+json": {
       "model_id": "667200e192d34b4a8cf5d9232012dc2c",
       "version_major": 2,
       "version_minor": 0
      },
      "text/plain": [
       "JsmolView(layout=Layout(align_self='stretch', height='400px'))"
      ]
     },
     "metadata": {},
     "output_type": "display_data"
    },
    {
     "name": "stdout",
     "output_type": "stream",
     "text": [
      "Visualisation de la structure après l'opération 2\n",
      "Opération 3: Rot:\n",
      "[[-1.  0.  0.]\n",
      " [ 0. -1.  0.]\n",
      " [ 0.  0. -1.]]\n",
      "tau\n",
      "[0. 0. 0.]\n",
      "Atome original: [ 2.02965769 -1.17182341 16.13477624] Li\n",
      "Atome transformé: [ -2.02965769   1.17182341 -16.13477624]\n",
      "\n"
     ]
    },
    {
     "data": {
      "application/vnd.jupyter.widget-view+json": {
       "model_id": "7e603bb0f04c488fb38cf4eba9a530ff",
       "version_major": 2,
       "version_minor": 0
      },
      "text/plain": [
       "JsmolView(layout=Layout(align_self='stretch', height='400px'))"
      ]
     },
     "metadata": {},
     "output_type": "display_data"
    },
    {
     "name": "stdout",
     "output_type": "stream",
     "text": [
      "Visualisation de la structure après l'opération 3\n"
     ]
    }
   ],
   "source": [
    "# Affichage des opérations de symétrie et visualisation après chaque transformation\n",
    "print(f\"Groupe d'espace: {struct.get_space_group_symbol()}\")\n",
    "for i, (op, atom, transformed) in enumerate(zip(symm_ops_selected, atoms, transformed_atoms)):\n",
    "    print(f\"Opération {i+1}: {op}\")\n",
    "    print(f\"Atome original: {atom}\")\n",
    "    print(f\"Atome transformé: {transformed}\\n\")\n",
    "    \n",
    "    # Création d'une structure temporaire pour visualisation\n",
    "    temp_structure = conv_struc.copy()\n",
    "    temp_structure.append(\"X\", transformed, coords_are_cartesian=True)\n",
    "    try:\n",
    "        view_transformed = quick_view(temp_structure)\n",
    "        display(view_transformed)\n",
    "    except ValueError as e:\n",
    "        print(f\"Erreur lors de la visualisation: {e}\")\n",
    "    print(f\"Visualisation de la structure après l'opération {i+1}\")"
   ]
  },
  {
   "cell_type": "markdown",
   "id": "69e8f907",
   "metadata": {},
   "source": [
    "Opération 1 : Il s’agit d’une rotation identité (matrice unité), ce qui signifie que la structure ne subit aucune transformation.\n",
    "\n",
    "Opération 2 : Une rotation d’ordre -1 qui inverse les coordonnées de l’atome étudié, indiquant une symétrie par inversion centrale.\n",
    "\n",
    "Opération 3 : Même type de rotation qu’en opération 2, mais appliquée à un autre atome, montrant un comportement symétrique cohérent dans la structure."
   ]
  }
 ],
 "metadata": {
  "kernelspec": {
   "display_name": "Python 3 (ipykernel)",
   "language": "python",
   "name": "python3"
  },
  "language_info": {
   "codemirror_mode": {
    "name": "ipython",
    "version": 3
   },
   "file_extension": ".py",
   "mimetype": "text/x-python",
   "name": "python",
   "nbconvert_exporter": "python",
   "pygments_lexer": "ipython3",
   "version": "3.9.13"
  }
 },
 "nbformat": 4,
 "nbformat_minor": 5
}
